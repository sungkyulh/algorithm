{
 "cells": [
  {
   "cell_type": "markdown",
   "metadata": {},
   "source": [
    "# 367p 정렬된 배열에서 특정 수의 개수 구하기"
   ]
  },
  {
   "cell_type": "code",
   "execution_count": 1,
   "metadata": {},
   "outputs": [],
   "source": [
    "def binary_search(arr,tar,s,e) :\n",
    "    while s<=e:\n",
    "        mid=(s+e)//2\n",
    "        if arr[mid]==tar:\n",
    "            return mid\n",
    "        elif arr[mid]>tar :\n",
    "            e=mid-1\n",
    "        else :\n",
    "            s=mid+1\n",
    "    return -1"
   ]
  },
  {
   "cell_type": "code",
   "execution_count": 14,
   "metadata": {},
   "outputs": [
    {
     "name": "stdout",
     "output_type": "stream",
     "text": [
      "입력할 수의 개수와 찾을 수를 입력 하여 주세요 : 7 2\n",
      "숫자열을 입력해 주세요 : 1 1 2 2 2 2 3\n",
      "4\n"
     ]
    }
   ],
   "source": [
    "N=input('입력할 수의 개수와 찾을 수를 입력 하여 주세요 : ').split()\n",
    "N= [int(x) for x in N]\n",
    "arr=input('숫자열을 입력해 주세요 : ').split()\n",
    "arr=[int(x) for x in arr]\n",
    "\n",
    "count=-1\n",
    "\n",
    "pos=binary_search(arr,N[1],0,N[0]-1)\n",
    "\n",
    "if pos != -1 :\n",
    "    x=pos-1\n",
    "    count=1\n",
    "    while True:\n",
    "        if arr[x] == N[1]:\n",
    "            x-=1\n",
    "            count+=1\n",
    "        else:\n",
    "            break\n",
    "    pos+=1\n",
    "    while True:\n",
    "        if arr[pos] == N[1]:\n",
    "            pos+=1\n",
    "            count +=1\n",
    "        else:\n",
    "            break\n",
    "\n",
    "print(count)\n",
    "    "
   ]
  },
  {
   "cell_type": "markdown",
   "metadata": {},
   "source": [
    "# 368p 고정점 찾기"
   ]
  },
  {
   "cell_type": "code",
   "execution_count": 27,
   "metadata": {},
   "outputs": [
    {
     "name": "stdout",
     "output_type": "stream",
     "text": [
      "입력할 숫자의 개수를 입력 하세요 : 7\n",
      "숫자열을 입력해 주세요 : -15 -4 3 8 9 13 15\n",
      "-1\n"
     ]
    }
   ],
   "source": [
    "N=int(input('입력할 숫자의 개수를 입력 하세요 : '))\n",
    "arr= input('숫자열을 입력해 주세요 : ').split()\n",
    "arr=[int(x) for x in arr]\n",
    "count=0\n",
    "s=0\n",
    "e=N-1\n",
    "while s<=e:\n",
    "    mid=(s+e)//2\n",
    "    #print(mid,arr[mid])\n",
    "    if arr[mid]==mid:\n",
    "        print(mid)\n",
    "        count+=1\n",
    "    if arr[mid] <= mid :\n",
    "        s=mid+1\n",
    "    else:\n",
    "        e=mid-1\n",
    "if count==0:\n",
    "    print(-1)"
   ]
  },
  {
   "cell_type": "markdown",
   "metadata": {},
   "source": [
    "# 369p 공유기 설치"
   ]
  },
  {
   "cell_type": "code",
   "execution_count": null,
   "metadata": {},
   "outputs": [],
   "source": []
  },
  {
   "cell_type": "markdown",
   "metadata": {},
   "source": [
    "# 370p 가사 검색"
   ]
  },
  {
   "cell_type": "code",
   "execution_count": 28,
   "metadata": {},
   "outputs": [],
   "source": [
    "words=['frodo','front','frost','frozen','frame','kakao']\n",
    "queries=['fro??','????o','fr???','fro???','pro?']"
   ]
  },
  {
   "cell_type": "code",
   "execution_count": 60,
   "metadata": {},
   "outputs": [
    {
     "name": "stdout",
     "output_type": "stream",
     "text": [
      "[3, 2, 4, 1, 0]\n"
     ]
    }
   ],
   "source": [
    "words.sort()\n",
    "res=[]\n",
    "\n",
    "for q in queries:\n",
    "    count=0\n",
    "    l=len(q)\n",
    "    s=0\n",
    "    e=l\n",
    "    while q[s]=='?':\n",
    "        s+=1\n",
    "    while q[e-1]=='?':\n",
    "        e-=1\n",
    "    for w in words:\n",
    "        if l ==len(w):\n",
    "            if q[s:e]==w[s:e]:\n",
    "                count+=1\n",
    "    res.append(count)\n",
    "\n",
    "print(res)\n",
    "    "
   ]
  },
  {
   "cell_type": "code",
   "execution_count": null,
   "metadata": {},
   "outputs": [],
   "source": []
  }
 ],
 "metadata": {
  "kernelspec": {
   "display_name": "Python 3",
   "language": "python",
   "name": "python3"
  },
  "language_info": {
   "codemirror_mode": {
    "name": "ipython",
    "version": 3
   },
   "file_extension": ".py",
   "mimetype": "text/x-python",
   "name": "python",
   "nbconvert_exporter": "python",
   "pygments_lexer": "ipython3",
   "version": "3.8.5"
  },
  "toc": {
   "base_numbering": 1,
   "nav_menu": {},
   "number_sections": true,
   "sideBar": true,
   "skip_h1_title": false,
   "title_cell": "Table of Contents",
   "title_sidebar": "Contents",
   "toc_cell": false,
   "toc_position": {},
   "toc_section_display": true,
   "toc_window_display": false
  },
  "varInspector": {
   "cols": {
    "lenName": 16,
    "lenType": 16,
    "lenVar": 40
   },
   "kernels_config": {
    "python": {
     "delete_cmd_postfix": "",
     "delete_cmd_prefix": "del ",
     "library": "var_list.py",
     "varRefreshCmd": "print(var_dic_list())"
    },
    "r": {
     "delete_cmd_postfix": ") ",
     "delete_cmd_prefix": "rm(",
     "library": "var_list.r",
     "varRefreshCmd": "cat(var_dic_list()) "
    }
   },
   "types_to_exclude": [
    "module",
    "function",
    "builtin_function_or_method",
    "instance",
    "_Feature"
   ],
   "window_display": false
  }
 },
 "nbformat": 4,
 "nbformat_minor": 4
}
