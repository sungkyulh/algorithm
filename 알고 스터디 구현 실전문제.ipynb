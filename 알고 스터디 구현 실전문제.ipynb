{
 "cells": [
  {
   "cell_type": "markdown",
   "metadata": {},
   "source": [
    "# 321p 럭키 스트레이트"
   ]
  },
  {
   "cell_type": "code",
   "execution_count": 11,
   "metadata": {},
   "outputs": [
    {
     "name": "stdout",
     "output_type": "stream",
     "text": [
      "7755\n",
      "READY\n"
     ]
    }
   ],
   "source": [
    "n = list(map(int, list(input())))\n",
    "\n",
    "len_n = len(n)\n",
    "\n",
    "if sum(n[:(len_n // 2)]) == sum(n[(len_n // 2):]):\n",
    "    print(\"LUCKY\")\n",
    "else:\n",
    "    print(\"READY\")"
   ]
  },
  {
   "cell_type": "markdown",
   "metadata": {},
   "source": [
    "# 322p 문자열 재정렬"
   ]
  },
  {
   "cell_type": "code",
   "execution_count": 19,
   "metadata": {},
   "outputs": [
    {
     "name": "stdout",
     "output_type": "stream",
     "text": [
      "AJKDLSI412K4JSJ9D\n",
      "ADDIJJJKKLSS20\n"
     ]
    }
   ],
   "source": [
    "s = list(input())\n",
    "\n",
    "s.sort()\n",
    "\n",
    "numPos = 0\n",
    "\n",
    "for i in range(len(s)):\n",
    "    if not ('0' <= s[i] <= '9'):\n",
    "        numPos = i\n",
    "        break\n",
    "\n",
    "for i in s[numPos:]:\n",
    "    print(i, end='')\n",
    "\n",
    "sum = 0\n",
    "for i in s[:numPos]:\n",
    "    sum += int(i)\n",
    "print(sum)"
   ]
  },
  {
   "cell_type": "markdown",
   "metadata": {},
   "source": [
    "# 323p 문자열 압축"
   ]
  },
  {
   "cell_type": "markdown",
   "metadata": {},
   "source": [
    "https://programmers.co.kr/learn/courses/30/lessons/60057"
   ]
  },
  {
   "cell_type": "code",
   "execution_count": 44,
   "metadata": {},
   "outputs": [],
   "source": [
    "def solution(s):\n",
    "    len_s=len(s)\n",
    "    answer = len_s\n",
    "    for i in range(1,(len_s//2)+1):\n",
    "        comDict=[]\n",
    "        for j in range(0,len_s//i):\n",
    "            cut=s[j*i:(j+1)*i]\n",
    "            if j==0:\n",
    "                comDict.insert(0,[cut,1])\n",
    "                continue\n",
    "            if cut == comDict[0][0]:\n",
    "                comDict[0][1]+=1\n",
    "            else:\n",
    "                comDict.insert(0,[cut,1])\n",
    "        comDict.insert(0,[s[(len_s-(len_s%i)):],1])\n",
    "        tmp=0\n",
    "        for k,v in comDict:\n",
    "            tmp+=len(k)\n",
    "            if v != 1:\n",
    "                tmp+=len(str(v))\n",
    "        answer = min(answer,tmp)\n",
    "    return answer"
   ]
  },
  {
   "cell_type": "code",
   "execution_count": null,
   "metadata": {},
   "outputs": [],
   "source": []
  }
 ],
 "metadata": {
  "kernelspec": {
   "display_name": "Python 3",
   "language": "python",
   "name": "python3"
  },
  "language_info": {
   "codemirror_mode": {
    "name": "ipython",
    "version": 3
   },
   "file_extension": ".py",
   "mimetype": "text/x-python",
   "name": "python",
   "nbconvert_exporter": "python",
   "pygments_lexer": "ipython3",
   "version": "3.8.5"
  },
  "toc": {
   "base_numbering": 1,
   "nav_menu": {},
   "number_sections": true,
   "sideBar": true,
   "skip_h1_title": false,
   "title_cell": "Table of Contents",
   "title_sidebar": "Contents",
   "toc_cell": false,
   "toc_position": {},
   "toc_section_display": true,
   "toc_window_display": false
  },
  "varInspector": {
   "cols": {
    "lenName": 16,
    "lenType": 16,
    "lenVar": 40
   },
   "kernels_config": {
    "python": {
     "delete_cmd_postfix": "",
     "delete_cmd_prefix": "del ",
     "library": "var_list.py",
     "varRefreshCmd": "print(var_dic_list())"
    },
    "r": {
     "delete_cmd_postfix": ") ",
     "delete_cmd_prefix": "rm(",
     "library": "var_list.r",
     "varRefreshCmd": "cat(var_dic_list()) "
    }
   },
   "types_to_exclude": [
    "module",
    "function",
    "builtin_function_or_method",
    "instance",
    "_Feature"
   ],
   "window_display": false
  }
 },
 "nbformat": 4,
 "nbformat_minor": 4
}
