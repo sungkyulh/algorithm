{
 "cells": [
  {
   "cell_type": "markdown",
   "metadata": {},
   "source": [
    "# 311p 모험가 길드"
   ]
  },
  {
   "cell_type": "code",
   "execution_count": 7,
   "metadata": {},
   "outputs": [
    {
     "name": "stdout",
     "output_type": "stream",
     "text": [
      "9\n",
      "1 1 1 2 2 2 3 3 3\n",
      "5\n"
     ]
    }
   ],
   "source": [
    "n = int(input())\n",
    "arr = list(map(int, input().split()))\n",
    "arr.sort()  # 공포도가 낮은 모험가 부터 판단\n",
    "\n",
    "member = 0  # 현재 모집한 멤버 수\n",
    "party = 0  # 현재 만들어진 그룹수\n",
    "for i in range(n):\n",
    "    member += 1  # 한명을 모집\n",
    "    if arr[i] <= member:  #현재 모집된 사람이 지금들어온 모험가(공포도가 가장 높음)의 공포도 보다 많거나 같으면 파티 형성\n",
    "        party += 1\n",
    "        member = 0\n",
    "\n",
    "print(party)"
   ]
  },
  {
   "cell_type": "markdown",
   "metadata": {},
   "source": [
    "# 312p 곱하기 혹은 더하기"
   ]
  },
  {
   "cell_type": "code",
   "execution_count": 12,
   "metadata": {},
   "outputs": [
    {
     "name": "stdout",
     "output_type": "stream",
     "text": [
      "567\n",
      "210\n"
     ]
    }
   ],
   "source": [
    "num = input()\n",
    "num = [int(n) for n in num]  # 숫자 한자리씩 자름\n",
    "\n",
    "result = 0\n",
    "for i in num:\n",
    "    if (result + i) > (result * i):  # 더한거와 곱한것중 큰결과를 채택\n",
    "        result = result + i\n",
    "    else:\n",
    "        result = result * i\n",
    "print(result)"
   ]
  },
  {
   "cell_type": "markdown",
   "metadata": {},
   "source": [
    "# 313p 문자열 뒤집기"
   ]
  },
  {
   "cell_type": "code",
   "execution_count": 6,
   "metadata": {},
   "outputs": [
    {
     "name": "stdout",
     "output_type": "stream",
     "text": [
      "000111001111110101\n",
      "4\n"
     ]
    }
   ],
   "source": [
    "arr=input()\n",
    "n=len(arr)\n",
    "flip=[0,0] #뒤집은 횟수 저장용\n",
    "\n",
    "before = arr[0]\n",
    "for i in arr[1:]:\n",
    "    if i != before:\n",
    "        flip[int(before)]+=1\n",
    "        before=i\n",
    "\n",
    "flip[int(before)]+=1\n",
    "print(min(flip))\n"
   ]
  },
  {
   "cell_type": "code",
   "execution_count": null,
   "metadata": {},
   "outputs": [],
   "source": []
  }
 ],
 "metadata": {
  "kernelspec": {
   "display_name": "Python 3",
   "language": "python",
   "name": "python3"
  },
  "language_info": {
   "codemirror_mode": {
    "name": "ipython",
    "version": 3
   },
   "file_extension": ".py",
   "mimetype": "text/x-python",
   "name": "python",
   "nbconvert_exporter": "python",
   "pygments_lexer": "ipython3",
   "version": "3.8.5"
  },
  "toc": {
   "base_numbering": 1,
   "nav_menu": {},
   "number_sections": true,
   "sideBar": true,
   "skip_h1_title": false,
   "title_cell": "Table of Contents",
   "title_sidebar": "Contents",
   "toc_cell": false,
   "toc_position": {},
   "toc_section_display": true,
   "toc_window_display": false
  },
  "varInspector": {
   "cols": {
    "lenName": 16,
    "lenType": 16,
    "lenVar": 40
   },
   "kernels_config": {
    "python": {
     "delete_cmd_postfix": "",
     "delete_cmd_prefix": "del ",
     "library": "var_list.py",
     "varRefreshCmd": "print(var_dic_list())"
    },
    "r": {
     "delete_cmd_postfix": ") ",
     "delete_cmd_prefix": "rm(",
     "library": "var_list.r",
     "varRefreshCmd": "cat(var_dic_list()) "
    }
   },
   "types_to_exclude": [
    "module",
    "function",
    "builtin_function_or_method",
    "instance",
    "_Feature"
   ],
   "window_display": false
  }
 },
 "nbformat": 4,
 "nbformat_minor": 4
}
