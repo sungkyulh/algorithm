{
 "cells": [
  {
   "cell_type": "markdown",
   "metadata": {},
   "source": [
    "# 115p 왕실의 나이트"
   ]
  },
  {
   "cell_type": "markdown",
   "metadata": {},
   "source": [
    "□■□■□<br>\n",
    "■□□□■<br>\n",
    "□□■□□<br>\n",
    "■□□□■<br>\n",
    "□■□■□"
   ]
  },
  {
   "cell_type": "code",
   "execution_count": 5,
   "metadata": {},
   "outputs": [
    {
     "name": "stdout",
     "output_type": "stream",
     "text": [
      "b3\n",
      "6\n"
     ]
    }
   ],
   "source": [
    "pos=input()\n",
    "x=int(pos[1])-1\n",
    "y=ord(pos[0])-ord('a')\n",
    "\n",
    "tmp=0\n",
    "able=8\n",
    "if x ==0 or x==7:\n",
    "    tmp=2\n",
    "    able -=4\n",
    "elif x==1 or x==6:\n",
    "    tmp==1\n",
    "    able -=2\n",
    "if y==0 or y==7:\n",
    "    if tmp == 2:\n",
    "        able-=2\n",
    "    elif tmp ==1:\n",
    "        able -=3\n",
    "    else:\n",
    "        able -=4\n",
    "elif y==1 or y==6:\n",
    "    if tmp==2:\n",
    "        able -=1\n",
    "    elif tmp==1:\n",
    "        able-=2\n",
    "    else:\n",
    "        able-=2\n",
    "print(able)"
   ]
  },
  {
   "cell_type": "markdown",
   "metadata": {},
   "source": [
    "# 118p 게임 개발"
   ]
  },
  {
   "cell_type": "code",
   "execution_count": 20,
   "metadata": {},
   "outputs": [
    {
     "name": "stdout",
     "output_type": "stream",
     "text": [
      "5 5\n",
      "1 1 0\n",
      "1 1 1 1 1\n",
      "1 0 1 0 1\n",
      "1 0 0 0 1\n",
      "1 0 1 1 1\n",
      "1 1 1 1 1\n",
      "5\n"
     ]
    }
   ],
   "source": [
    "n,m = map(int,input().split())\n",
    "pos=list(map(int,input().split()))\n",
    "field=[]\n",
    "for _ in range(n):\n",
    "    field.append(list(map(int,input().split())))\n",
    "field[pos[0]][pos[1]]=2\n",
    "ways=[[0,1],[1,0],[0,-1],[-1,0]]\n",
    "count=1\n",
    "roCount=0\n",
    "while True:\n",
    "    pos[2]=(pos[2]+3)%4 # 왼쪽으로 회전\n",
    "    roCount+=1\n",
    "    if field[pos[0]+ways[pos[2]][0]][pos[1]+ways[pos[2]][1]] == 0:\n",
    "        pos[0]+=ways[pos[2]][0]\n",
    "        pos[1]+=ways[pos[2]][1]\n",
    "        field[pos[0]][pos[1]]=2\n",
    "        roCount=0\n",
    "        count+=1\n",
    "    if roCount==4:\n",
    "        pos[2]=(pos[2]+3)%4\n",
    "        if field[pos[0]+ways[pos[2]][0]][pos[1]+ways[pos[2]][1]] == 1:\n",
    "            break\n",
    "        pos[0]+=ways[pos[2]][0]\n",
    "        pos[1]+=ways[pos[2]][1]\n",
    "print(count)"
   ]
  },
  {
   "cell_type": "code",
   "execution_count": 14,
   "metadata": {},
   "outputs": [
    {
     "data": {
      "text/plain": [
       "0"
      ]
     },
     "execution_count": 14,
     "metadata": {},
     "output_type": "execute_result"
    }
   ],
   "source": [
    "field[1][1]"
   ]
  },
  {
   "cell_type": "code",
   "execution_count": null,
   "metadata": {},
   "outputs": [],
   "source": []
  }
 ],
 "metadata": {
  "kernelspec": {
   "display_name": "Python 3",
   "language": "python",
   "name": "python3"
  },
  "language_info": {
   "codemirror_mode": {
    "name": "ipython",
    "version": 3
   },
   "file_extension": ".py",
   "mimetype": "text/x-python",
   "name": "python",
   "nbconvert_exporter": "python",
   "pygments_lexer": "ipython3",
   "version": "3.8.5"
  },
  "toc": {
   "base_numbering": 1,
   "nav_menu": {},
   "number_sections": true,
   "sideBar": true,
   "skip_h1_title": false,
   "title_cell": "Table of Contents",
   "title_sidebar": "Contents",
   "toc_cell": false,
   "toc_position": {},
   "toc_section_display": true,
   "toc_window_display": false
  },
  "varInspector": {
   "cols": {
    "lenName": 16,
    "lenType": 16,
    "lenVar": 40
   },
   "kernels_config": {
    "python": {
     "delete_cmd_postfix": "",
     "delete_cmd_prefix": "del ",
     "library": "var_list.py",
     "varRefreshCmd": "print(var_dic_list())"
    },
    "r": {
     "delete_cmd_postfix": ") ",
     "delete_cmd_prefix": "rm(",
     "library": "var_list.r",
     "varRefreshCmd": "cat(var_dic_list()) "
    }
   },
   "types_to_exclude": [
    "module",
    "function",
    "builtin_function_or_method",
    "instance",
    "_Feature"
   ],
   "window_display": false
  }
 },
 "nbformat": 4,
 "nbformat_minor": 4
}
