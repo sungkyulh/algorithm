{
 "cells": [
  {
   "cell_type": "markdown",
   "metadata": {},
   "source": [
    "# 92p 큰수의 법칙"
   ]
  },
  {
   "cell_type": "code",
   "execution_count": 3,
   "metadata": {},
   "outputs": [
    {
     "name": "stdout",
     "output_type": "stream",
     "text": [
      "5 3 8\n",
      "2 4 5 4 6\n",
      "18\n"
     ]
    }
   ],
   "source": [
    "nmk=input().split()\n",
    "nmk=[int(x) for x in nmk]\n",
    "\n",
    "arr=input().split()\n",
    "arr=[int(x) for x in arr]\n",
    "\n",
    "arr.sort(reverse=True)\n",
    "\n",
    "\n",
    "result=(arr[0]*nmk[2]+arr[1])*(nmk[1]//(nmk[2]+1)) #가장 큰수를 k번 만큼 두번째로 큰수를 1번 사용하는 패턴이 반복되니 횟수를 나눠서 구함\n",
    "result+=arr[0]*(nmk[1]%(nmk[2]+1)) # 남은 횟수는 가장 큰수로 채움\n",
    "\n",
    "print(result)"
   ]
  },
  {
   "cell_type": "markdown",
   "metadata": {},
   "source": [
    "# 96p 숫자 카드 게임"
   ]
  },
  {
   "cell_type": "code",
   "execution_count": 6,
   "metadata": {},
   "outputs": [
    {
     "name": "stdout",
     "output_type": "stream",
     "text": [
      "2 4\n",
      "7 3 1 8\n",
      "3 3 3 4\n",
      "3\n"
     ]
    }
   ],
   "source": [
    "nm=input().split()\n",
    "nm=[int(x) for x in nm]\n",
    "minD=[]\n",
    "for _ in range(nm[0]):\n",
    "    arr=input().split()\n",
    "    arr=[int(x) for x in arr]\n",
    "    minD.append(min(arr)) # 각 줄별 가장 작은 수를 담은 리스트 생성\n",
    "print(max(minD)) # 그 리스트중 가장 큰수 출력"
   ]
  },
  {
   "cell_type": "markdown",
   "metadata": {},
   "source": [
    "# 99p 1이 될 때까지"
   ]
  },
  {
   "cell_type": "code",
   "execution_count": 11,
   "metadata": {},
   "outputs": [
    {
     "name": "stdout",
     "output_type": "stream",
     "text": [
      "25 5\n",
      "2\n"
     ]
    }
   ],
   "source": [
    "nk=input().split()\n",
    "nk=[int(x) for x in nk]\n",
    "\n",
    "count=0;\n",
    "while True:\n",
    "    mod= nk[0]%nk[1] # k의 배수가 될때 까지 1씩 감소\n",
    "    nk[0]-=mod\n",
    "    count+=mod\n",
    "    if nk[0]==1:\n",
    "        break\n",
    "    nk[0]=nk[0]/nk[1] # k로 나눔\n",
    "    count+=1\n",
    "    if nk[0]==1:\n",
    "        break\n",
    "print(int(count))"
   ]
  },
  {
   "cell_type": "code",
   "execution_count": null,
   "metadata": {},
   "outputs": [],
   "source": []
  }
 ],
 "metadata": {
  "kernelspec": {
   "display_name": "Python 3",
   "language": "python",
   "name": "python3"
  },
  "language_info": {
   "codemirror_mode": {
    "name": "ipython",
    "version": 3
   },
   "file_extension": ".py",
   "mimetype": "text/x-python",
   "name": "python",
   "nbconvert_exporter": "python",
   "pygments_lexer": "ipython3",
   "version": "3.8.5"
  },
  "toc": {
   "base_numbering": 1,
   "nav_menu": {},
   "number_sections": true,
   "sideBar": true,
   "skip_h1_title": false,
   "title_cell": "Table of Contents",
   "title_sidebar": "Contents",
   "toc_cell": false,
   "toc_position": {},
   "toc_section_display": true,
   "toc_window_display": false
  },
  "varInspector": {
   "cols": {
    "lenName": 16,
    "lenType": 16,
    "lenVar": 40
   },
   "kernels_config": {
    "python": {
     "delete_cmd_postfix": "",
     "delete_cmd_prefix": "del ",
     "library": "var_list.py",
     "varRefreshCmd": "print(var_dic_list())"
    },
    "r": {
     "delete_cmd_postfix": ") ",
     "delete_cmd_prefix": "rm(",
     "library": "var_list.r",
     "varRefreshCmd": "cat(var_dic_list()) "
    }
   },
   "types_to_exclude": [
    "module",
    "function",
    "builtin_function_or_method",
    "instance",
    "_Feature"
   ],
   "window_display": false
  }
 },
 "nbformat": 4,
 "nbformat_minor": 4
}
