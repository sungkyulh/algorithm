{
 "cells": [
  {
   "cell_type": "markdown",
   "metadata": {},
   "source": [
    "# 197p 부품 찾기"
   ]
  },
  {
   "cell_type": "code",
   "execution_count": 14,
   "metadata": {},
   "outputs": [],
   "source": [
    "def binary_search(arr,tar,s,e) :\n",
    "    while s<=e:\n",
    "        mid=(s+e)//2\n",
    "        if arr[mid]==tar:\n",
    "            return mid\n",
    "        elif arr[mid]>tar :\n",
    "            e=mid-1\n",
    "        else :\n",
    "            s=mid+1\n",
    "    return -1"
   ]
  },
  {
   "cell_type": "code",
   "execution_count": 16,
   "metadata": {},
   "outputs": [
    {
     "name": "stdout",
     "output_type": "stream",
     "text": [
      "부품 개수를 입력 : 5\n",
      "부품 고유 번호 입력 : 8 3 7 9 2\n",
      "구매할 부품 개수 입력 : 3\n",
      "구매할 부품 번호 입력 : 5 7 9\n",
      "no yes yes "
     ]
    }
   ],
   "source": [
    "n=int(input('부품 개수를 입력 : '))\n",
    "nl=input('부품 고유 번호 입력 : ').split()\n",
    "nl=list(map(int,nl))\n",
    "m=int(input('구매할 부품 개수 입력 : '))\n",
    "ml=input('구매할 부품 번호 입력 : ').split()\n",
    "ml=list(map(int,ml))\n",
    "\n",
    "nl.sort()\n",
    "\n",
    "for fm in ml:\n",
    "    pos=binary_search(nl,fm,0,n-1)\n",
    "    if pos>-1:\n",
    "        print('yes',end=' ')\n",
    "    else:\n",
    "        print('no',end= ' ')\n"
   ]
  },
  {
   "cell_type": "markdown",
   "metadata": {},
   "source": [
    "# 201p 떡볶이 떡 만들기"
   ]
  },
  {
   "cell_type": "code",
   "execution_count": 2,
   "metadata": {},
   "outputs": [],
   "source": [
    "import time\n",
    "def check_time(original_fn):  #실행 시간 측정을 원하는 함수 정의부 위에 @check_time을 추가\n",
    "    def wrapper_fn(*args, **kwargs):\n",
    "        \n",
    "        start_time = time.time()\n",
    "        \n",
    "        result = original_fn(*args, **kwargs)\n",
    "        \n",
    "        end_time = time.time()\n",
    "        print(f\"WorkingTime[{original_fn.__name__}]: {end_time-start_time:0.4} sec\")\n",
    "        \n",
    "        return result\n",
    "    return wrapper_fn"
   ]
  },
  {
   "cell_type": "code",
   "execution_count": 16,
   "metadata": {},
   "outputs": [
    {
     "name": "stdout",
     "output_type": "stream",
     "text": [
      "떡의 개수, 요청한 떡의 길이 입력 : 4 20\n",
      "떡의 길이 입력5 5 5 5\n",
      "4\n",
      "0\n",
      "WorkingTime[aa]: 0.0009696 sec\n"
     ]
    }
   ],
   "source": [
    "@check_time\n",
    "def aa():\n",
    "    dduk.sort(reverse=True)\n",
    "    \n",
    "    tmpl=0\n",
    "    i=1\n",
    "    while True:\n",
    "        if nm[0]<2:\n",
    "            break\n",
    "        if i==nm[0]:\n",
    "            tmpl=tmpl+dduk[i-1]*i\n",
    "        else:\n",
    "            tmpl = tmpl + (dduk[i-1]-dduk[i])*i\n",
    "        if tmpl >= nm[1]:\n",
    "            break\n",
    "        i+=1\n",
    "    if i!=nm[0]:\n",
    "        print(int(dduk[i]+(tmpl-nm[1])/i))\n",
    "    else:\n",
    "        print(int((tmpl-nm[1])/i))\n",
    "\n",
    "\n",
    "nm=input('떡의 개수, 요청한 떡의 길이 입력 : ').split()\n",
    "nm=list(map(int,nm))\n",
    "dduk=input('떡의 길이 입력').split()\n",
    "dduk=list(map(int,dduk))\n",
    "aa()"
   ]
  },
  {
   "cell_type": "code",
   "execution_count": 4,
   "metadata": {},
   "outputs": [],
   "source": [
    "# 책 코드\n",
    "@check_time\n",
    "def bb():\n",
    "    start=0\n",
    "    end=max(dduk)\n",
    "    \n",
    "    result=0\n",
    "    while (start <=end):\n",
    "        total=0\n",
    "        mid=(start+end)//2\n",
    "        for x in dduk:\n",
    "            if x>mid:\n",
    "                total+= x-mid\n",
    "        if total <nm[1]:\n",
    "            end = mid-1\n",
    "        else:\n",
    "            result=mid\n",
    "            start=mid+1\n",
    "            \n",
    "    print(result)"
   ]
  },
  {
   "cell_type": "code",
   "execution_count": 5,
   "metadata": {},
   "outputs": [
    {
     "name": "stdout",
     "output_type": "stream",
     "text": [
      "499718\n",
      "WorkingTime[aa]: 0.0 sec\n",
      "499718\n",
      "WorkingTime[bb]: 0.05267 sec\n"
     ]
    }
   ],
   "source": [
    "dduk=[x for x in range(0,500000,5)]\n",
    "nm=[100000,7777]\n",
    "aa()\n",
    "bb()"
   ]
  },
  {
   "cell_type": "code",
   "execution_count": 6,
   "metadata": {},
   "outputs": [
    {
     "name": "stdout",
     "output_type": "stream",
     "text": [
      "499975\n",
      "WorkingTime[aa]: 0.0009766 sec\n",
      "499975\n",
      "WorkingTime[bb]: 0.05158 sec\n"
     ]
    }
   ],
   "source": [
    "dduk=[x for x in range(0,500000,5)]\n",
    "nm=[100000,50]\n",
    "aa()\n",
    "bb()"
   ]
  },
  {
   "cell_type": "code",
   "execution_count": 7,
   "metadata": {},
   "outputs": [
    {
     "name": "stdout",
     "output_type": "stream",
     "text": [
      "276390\n",
      "WorkingTime[aa]: 0.01954 sec\n",
      "276390\n",
      "WorkingTime[bb]: 0.1055 sec\n"
     ]
    }
   ],
   "source": [
    "dduk=[x for x in range(0,500000,5)]\n",
    "nm=[100000,5000000000]\n",
    "aa()\n",
    "bb()"
   ]
  },
  {
   "cell_type": "code",
   "execution_count": null,
   "metadata": {},
   "outputs": [],
   "source": []
  }
 ],
 "metadata": {
  "kernelspec": {
   "display_name": "Python 3",
   "language": "python",
   "name": "python3"
  },
  "language_info": {
   "codemirror_mode": {
    "name": "ipython",
    "version": 3
   },
   "file_extension": ".py",
   "mimetype": "text/x-python",
   "name": "python",
   "nbconvert_exporter": "python",
   "pygments_lexer": "ipython3",
   "version": "3.8.5"
  },
  "toc": {
   "base_numbering": 1,
   "nav_menu": {},
   "number_sections": true,
   "sideBar": true,
   "skip_h1_title": false,
   "title_cell": "Table of Contents",
   "title_sidebar": "Contents",
   "toc_cell": false,
   "toc_position": {},
   "toc_section_display": true,
   "toc_window_display": false
  },
  "varInspector": {
   "cols": {
    "lenName": 16,
    "lenType": 16,
    "lenVar": 40
   },
   "kernels_config": {
    "python": {
     "delete_cmd_postfix": "",
     "delete_cmd_prefix": "del ",
     "library": "var_list.py",
     "varRefreshCmd": "print(var_dic_list())"
    },
    "r": {
     "delete_cmd_postfix": ") ",
     "delete_cmd_prefix": "rm(",
     "library": "var_list.r",
     "varRefreshCmd": "cat(var_dic_list()) "
    }
   },
   "types_to_exclude": [
    "module",
    "function",
    "builtin_function_or_method",
    "instance",
    "_Feature"
   ],
   "window_display": false
  }
 },
 "nbformat": 4,
 "nbformat_minor": 4
}
