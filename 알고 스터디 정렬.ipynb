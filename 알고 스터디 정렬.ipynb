{
 "cells": [
  {
   "cell_type": "code",
   "execution_count": null,
   "metadata": {},
   "outputs": [],
   "source": []
  },
  {
   "cell_type": "markdown",
   "metadata": {},
   "source": [
    "#  p178 위에서 아래로"
   ]
  },
  {
   "cell_type": "code",
   "execution_count": 2,
   "metadata": {},
   "outputs": [
    {
     "name": "stdout",
     "output_type": "stream",
     "text": [
      "리스트에 넣을 숫자의 갯수 입력 : 3\n",
      "리스트에 넣을 숫자 입력 : 15\n",
      "리스트에 넣을 숫자 입력 : 27\n",
      "리스트에 넣을 숫자 입력 : 12\n",
      "[27, 15, 12]\n"
     ]
    }
   ],
   "source": [
    "arr=[]\n",
    "n=int(input('리스트에 넣을 숫자의 갯수 입력 : '))\n",
    "\n",
    "for i in range(n):\n",
    "    x=int(input('리스트에 넣을 숫자 입력 : '))\n",
    "    arr.append(x)\n",
    "\n",
    "arr= sorted(arr,reverse =True)\n",
    "\n",
    "print(arr)"
   ]
  },
  {
   "cell_type": "markdown",
   "metadata": {},
   "source": [
    "# p180 성적이 낮은 순서로 학생 출력하기"
   ]
  },
  {
   "cell_type": "code",
   "execution_count": 9,
   "metadata": {},
   "outputs": [
    {
     "name": "stdout",
     "output_type": "stream",
     "text": [
      "학생의 수 입력 : 2\n",
      "학생과 성적을 공백으로 구분하여 입력 : 홍길동 95\n",
      "학생과 성적을 공백으로 구분하여 입력 : 이순신 77\n",
      "이순신 홍길동 "
     ]
    }
   ],
   "source": [
    "arr=[]\n",
    "n=int(input('학생의 수 입력 : '))\n",
    "for i in range(n):\n",
    "    name , grade = input('학생과 성적을 공백으로 구분하여 입력 : ').split()\n",
    "    arr.append([name,int(grade)])\n",
    "arr=sorted(arr,key = lambda student: student[1])\n",
    "\n",
    "for n,g in arr:\n",
    "    #print(n,g)\n",
    "    print(n,end=' ')"
   ]
  },
  {
   "cell_type": "markdown",
   "metadata": {},
   "source": [
    "# p182 두 배열의 원소 교체"
   ]
  },
  {
   "cell_type": "code",
   "execution_count": 23,
   "metadata": {},
   "outputs": [
    {
     "name": "stdout",
     "output_type": "stream",
     "text": [
      "배열의 길이와 교체 횟수를 입력 : 5 3\n",
      "배열 A 입력 : 1 2 5 4 3\n",
      "배열 B 입력 : 5 5 6 6 5\n",
      "26\n"
     ]
    }
   ],
   "source": [
    "j= input('배열의 길이와 교체 횟수를 입력 : ').split()\n",
    "j=[int(x) for x in j]\n",
    "\n",
    "A=input('배열 A 입력 : ').split()\n",
    "A=[int(x) for x in A]\n",
    "A.sort()\n",
    "\n",
    "B=input('배열 B 입력 : ').split()\n",
    "B=[int(x) for x in B]\n",
    "B.sort()\n",
    "\n",
    "x=0\n",
    "y=j[0]-1\n",
    "for _ in range(j[1]):\n",
    "    if A[x]<B[y]:\n",
    "        A[x],B[y]=B[y],A[x]\n",
    "    else:\n",
    "        break\n",
    "    x+=1\n",
    "    y-=1\n",
    "    \n",
    "print(sum(A))"
   ]
  },
  {
   "cell_type": "code",
   "execution_count": null,
   "metadata": {},
   "outputs": [],
   "source": []
  }
 ],
 "metadata": {
  "kernelspec": {
   "display_name": "Python 3",
   "language": "python",
   "name": "python3"
  },
  "language_info": {
   "codemirror_mode": {
    "name": "ipython",
    "version": 3
   },
   "file_extension": ".py",
   "mimetype": "text/x-python",
   "name": "python",
   "nbconvert_exporter": "python",
   "pygments_lexer": "ipython3",
   "version": "3.8.5"
  }
 },
 "nbformat": 4,
 "nbformat_minor": 4
}
