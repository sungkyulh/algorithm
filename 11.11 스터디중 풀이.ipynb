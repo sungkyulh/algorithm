{
 "cells": [
  {
   "cell_type": "markdown",
   "metadata": {},
   "source": [
    "# 2001 : 최소 대금\n",
    "\n",
    "[문제 링크] https://codeup.kr/problem.php?id=2001"
   ]
  },
  {
   "cell_type": "code",
   "execution_count": 7,
   "metadata": {},
   "outputs": [
    {
     "name": "stdout",
     "output_type": "stream",
     "text": [
      "800\n",
      "700\n",
      "900\n",
      "198\n",
      "330\n",
      "987.8\n"
     ]
    }
   ],
   "source": [
    "pasta=int(input())\n",
    "tmp=int(input())\n",
    "if tmp< pasta:\n",
    "    pasta = tmp\n",
    "tmp=int(input())\n",
    "if tmp< pasta:\n",
    "    pasta = tmp\n",
    "drink =int(input())\n",
    "tmp=int(input())\n",
    "if tmp < drink:\n",
    "    drink = tmp\n",
    "\n",
    "print('%.1f'%((pasta+drink)*1.1))"
   ]
  },
  {
   "cell_type": "markdown",
   "metadata": {},
   "source": [
    "# 3120 : 리모콘\n",
    "\n",
    "[문제 링크] https://codeup.kr/problem.php?id=3120"
   ]
  },
  {
   "cell_type": "code",
   "execution_count": 18,
   "metadata": {},
   "outputs": [
    {
     "name": "stdout",
     "output_type": "stream",
     "text": [
      "22 3\n",
      "3\n"
     ]
    }
   ],
   "source": [
    "s,e=map(int,input().split())\n",
    "times=[0,1,2,3,2,1,2,3,3,2]\n",
    "\n",
    "e=abs(e-s)\n",
    "\n",
    "count=e//10\n",
    "\n",
    "count+=times[e%10]\n",
    "\n",
    "print(count)"
   ]
  },
  {
   "cell_type": "markdown",
   "metadata": {},
   "source": [
    "# 3301 : 거스름돈"
   ]
  },
  {
   "cell_type": "code",
   "execution_count": 19,
   "metadata": {},
   "outputs": [
    {
     "name": "stdout",
     "output_type": "stream",
     "text": [
      "54520\n",
      "8\n"
     ]
    }
   ],
   "source": [
    "pay = int(input())\n",
    "dan = [50000,10000,5000,1000,500,100,50,10]\n",
    "count=0\n",
    "for d in dan:\n",
    "    count+=pay//d\n",
    "    pay=pay%d\n",
    "print(count)"
   ]
  },
  {
   "cell_type": "code",
   "execution_count": null,
   "metadata": {},
   "outputs": [],
   "source": []
  }
 ],
 "metadata": {
  "kernelspec": {
   "display_name": "Python 3",
   "language": "python",
   "name": "python3"
  },
  "language_info": {
   "codemirror_mode": {
    "name": "ipython",
    "version": 3
   },
   "file_extension": ".py",
   "mimetype": "text/x-python",
   "name": "python",
   "nbconvert_exporter": "python",
   "pygments_lexer": "ipython3",
   "version": "3.8.5"
  },
  "toc": {
   "base_numbering": 1,
   "nav_menu": {},
   "number_sections": true,
   "sideBar": true,
   "skip_h1_title": false,
   "title_cell": "Table of Contents",
   "title_sidebar": "Contents",
   "toc_cell": false,
   "toc_position": {},
   "toc_section_display": true,
   "toc_window_display": false
  },
  "varInspector": {
   "cols": {
    "lenName": 16,
    "lenType": 16,
    "lenVar": 40
   },
   "kernels_config": {
    "python": {
     "delete_cmd_postfix": "",
     "delete_cmd_prefix": "del ",
     "library": "var_list.py",
     "varRefreshCmd": "print(var_dic_list())"
    },
    "r": {
     "delete_cmd_postfix": ") ",
     "delete_cmd_prefix": "rm(",
     "library": "var_list.r",
     "varRefreshCmd": "cat(var_dic_list()) "
    }
   },
   "types_to_exclude": [
    "module",
    "function",
    "builtin_function_or_method",
    "instance",
    "_Feature"
   ],
   "window_display": false
  }
 },
 "nbformat": 4,
 "nbformat_minor": 4
}
