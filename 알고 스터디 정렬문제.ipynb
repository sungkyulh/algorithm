{
 "cells": [
  {
   "cell_type": "markdown",
   "metadata": {},
   "source": [
    "# 359p 국영수"
   ]
  },
  {
   "cell_type": "code",
   "execution_count": 1,
   "metadata": {},
   "outputs": [
    {
     "name": "stdout",
     "output_type": "stream",
     "text": [
      "12\n",
      "junkyu 50 60 100\n",
      "sangkeun 80 60 50\n",
      "sunyoung 80 70 100\n",
      "soong 50 60 90\n",
      "haebin 50 60 100\n",
      "kangsoo 60 80 100\n",
      "donghyuk 80 60 100\n",
      "sei 70 70 70\n",
      "wonseob 70 70 90\n",
      "sanghyun 70 70 80\n",
      "nsj 80 80 80\n",
      "taewhan 50 60 90\n",
      "donghyuk\n",
      "sangkeun\n",
      "sunyoung\n",
      "nsj\n",
      "wonseob\n",
      "sanghyun\n",
      "sei\n",
      "kangsoo\n",
      "haebin\n",
      "junkyu\n",
      "soong\n",
      "taewhan\n"
     ]
    }
   ],
   "source": [
    "n=int(input())\n",
    "score=[]\n",
    "for x in range(n):\n",
    "    aa=input().split()\n",
    "    for i in range(1,4):\n",
    "        aa[i]=int(aa[i])\n",
    "    score.append(aa)\n",
    "score.sort(key=lambda x : (-x[1],x[2],-x[3],x[0]))\n",
    "for i in range(n):\n",
    "    print(score[i][0])"
   ]
  },
  {
   "cell_type": "markdown",
   "metadata": {},
   "source": [
    "![10825](./ri/10825.png)"
   ]
  },
  {
   "cell_type": "markdown",
   "metadata": {},
   "source": [
    "# 360p 안테나"
   ]
  },
  {
   "cell_type": "code",
   "execution_count": 11,
   "metadata": {},
   "outputs": [
    {
     "name": "stdout",
     "output_type": "stream",
     "text": [
      "4\n",
      "5 1 7 9\n",
      "5\n"
     ]
    }
   ],
   "source": [
    "n=int(input())\n",
    "pos=input().split()\n",
    "pos=list(map(int,pos))\n",
    "pos.sort()\n",
    "\n",
    "mid=n//2\n",
    "\n",
    "if n%2==0:\n",
    "    print(pos[mid-1])\n",
    "else:\n",
    "    print(pos[mid])\n",
    "    "
   ]
  },
  {
   "cell_type": "markdown",
   "metadata": {},
   "source": [
    "![18310](.\\ri\\18310.png)"
   ]
  },
  {
   "cell_type": "markdown",
   "metadata": {},
   "source": [
    "# 361p 실패율"
   ]
  },
  {
   "cell_type": "code",
   "execution_count": null,
   "metadata": {},
   "outputs": [],
   "source": [
    "def solution(N, stages):\n",
    "    stages.sort()\n",
    "    answer = []\n",
    "    tanswer=[]\n",
    "    ns=1\n",
    "    pop=len(stages)\n",
    "    dodal=0\n",
    "    x=0\n",
    "    while True:\n",
    "    #for x in range(len(stages)):\n",
    "        if x ==len(stages):\n",
    "            break\n",
    "        \n",
    "        if stages[x] == ns:\n",
    "            dodal+=1\n",
    "            x+=1\n",
    "        else:\n",
    "            if dodal==0:\n",
    "                tanswer.append([ns,(0)])\n",
    "                ns+=1\n",
    "            else:\n",
    "                tanswer.append([ns,(dodal/pop)])\n",
    "                pop=pop-dodal\n",
    "                ns+=1\n",
    "                dodal=0\n",
    "        if pop==0:\n",
    "            break\n",
    "    if len(tanswer)<N and pop !=0:\n",
    "        tanswer.append([ns,(dodal/pop)])\n",
    "        ns+=1\n",
    "    while len(tanswer)<N:\n",
    "        tanswer.append([ns,(0)])\n",
    "        ns+=1\n",
    "    \n",
    "    tanswer.sort(key=lambda x : (-x[1],x[0]))\n",
    "    for x in tanswer:\n",
    "        answer.append(x[0])\n",
    "    return answer"
   ]
  },
  {
   "cell_type": "markdown",
   "metadata": {},
   "source": [
    "![25](.\\ri\\25.png)"
   ]
  },
  {
   "cell_type": "markdown",
   "metadata": {},
   "source": [
    "# 363p 카드 정렬하기"
   ]
  },
  {
   "cell_type": "code",
   "execution_count": 14,
   "metadata": {},
   "outputs": [
    {
     "name": "stdout",
     "output_type": "stream",
     "text": [
      "3\n",
      "10\n",
      "20\n",
      "40\n",
      "100\n"
     ]
    }
   ],
   "source": [
    "# 시간 초과 발생\n",
    "n=int(input())\n",
    "deck=[]\n",
    "for _ in range(n):\n",
    "    x=int(input())\n",
    "    deck.append(x)\n",
    "\n",
    "if n==1:\n",
    "    print(0)\n",
    "else:\n",
    "    count=0\n",
    "    while len(deck)>1:\n",
    "        deck.sort()\n",
    "        a=deck.pop(0)\n",
    "        b=deck.pop(0)\n",
    "        deck.append(a+b)\n",
    "        count+=(a+b)\n",
    "    print(count)\n",
    "        "
   ]
  },
  {
   "cell_type": "code",
   "execution_count": 18,
   "metadata": {},
   "outputs": [
    {
     "name": "stdout",
     "output_type": "stream",
     "text": [
      "2\n",
      "10\n",
      "20\n",
      "30\n"
     ]
    }
   ],
   "source": [
    "#시간 초과\n",
    "def binary_search(arr,tar,s,e) :\n",
    "    while e-s>1:\n",
    "        mid=(s+e)//2\n",
    "        if arr[mid]>=tar and arr[mid-1]<tar:\n",
    "            return mid\n",
    "        elif arr[mid]>tar :\n",
    "            e=mid-1\n",
    "        else :\n",
    "            s=mid+1\n",
    "    return -1\n",
    "\n",
    "\n",
    "\n",
    "n=int(input())\n",
    "deck=[]\n",
    "for _ in range(n):\n",
    "    x=int(input())\n",
    "    deck.append(x)\n",
    "\n",
    "if n==1:\n",
    "    print(0)\n",
    "else:\n",
    "    count=0\n",
    "    while len(deck)>1:\n",
    "        a=deck.pop(0)\n",
    "        b=a+deck.pop(0)\n",
    "        count+=(b)\n",
    "        pos= binary_search(deck,b,0,len(deck))\n",
    "        if pos !=-1:\n",
    "            deck.insert(pos,b)\n",
    "        else:\n",
    "            deck.append(b)\n",
    "    print(count)\n",
    "        "
   ]
  },
  {
   "cell_type": "code",
   "execution_count": null,
   "metadata": {},
   "outputs": [],
   "source": []
  }
 ],
 "metadata": {
  "kernelspec": {
   "display_name": "Python 3",
   "language": "python",
   "name": "python3"
  },
  "language_info": {
   "codemirror_mode": {
    "name": "ipython",
    "version": 3
   },
   "file_extension": ".py",
   "mimetype": "text/x-python",
   "name": "python",
   "nbconvert_exporter": "python",
   "pygments_lexer": "ipython3",
   "version": "3.8.5"
  }
 },
 "nbformat": 4,
 "nbformat_minor": 4
}
